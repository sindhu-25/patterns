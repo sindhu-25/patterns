{
 "cells": [
  {
   "cell_type": "code",
   "execution_count": 41,
   "id": "b186df38",
   "metadata": {},
   "outputs": [
    {
     "name": "stdout",
     "output_type": "stream",
     "text": [
      "* * * * *\n",
      "*       *\n",
      "* * * * *\n",
      "*       *\n",
      "*       *\n"
     ]
    }
   ],
   "source": [
    "x=1\n",
    "while x<6:\n",
    "    if x==1:\n",
    "        print(\"* * * * *\")\n",
    "    elif x==2:\n",
    "        print(\"*       *\")\n",
    "    elif x==3:\n",
    "        print(\"* * * * *\")\n",
    "    elif x==4:\n",
    "        print(\"*       *\")\n",
    "    else:\n",
    "        print(\"*       *\")\n",
    "    x=x+1"
   ]
  },
  {
   "cell_type": "code",
   "execution_count": 30,
   "id": "e17b195b",
   "metadata": {},
   "outputs": [
    {
     "name": "stdout",
     "output_type": "stream",
     "text": [
      "* * *\n",
      "*    *\n",
      "* * *\n",
      "*    *\n",
      "* * *\n"
     ]
    }
   ],
   "source": [
    "x=1\n",
    "while x<6:\n",
    "    if x==1:\n",
    "        print(\"* * *\")\n",
    "    elif x==2:\n",
    "        print(\"*    *\")\n",
    "    elif x==3:\n",
    "        print(\"* * *\")\n",
    "    elif x==4:\n",
    "        print(\"*    *\")\n",
    "    else:\n",
    "        print(\"* * *\")\n",
    "    x=x+1"
   ]
  },
  {
   "cell_type": "code",
   "execution_count": 13,
   "id": "1ddc9d6b",
   "metadata": {},
   "outputs": [
    {
     "name": "stdout",
     "output_type": "stream",
     "text": [
      "* * *\n",
      "*    \n",
      "*    \n",
      "* * *\n"
     ]
    }
   ],
   "source": [
    "x=1\n",
    "while x<5:\n",
    "    if x==1:\n",
    "        print(\"* * *\")\n",
    "    elif x==2:\n",
    "        print(\"*    \")\n",
    "    elif x==3:\n",
    "        print(\"*    \")\n",
    "    else:\n",
    "        print(\"* * *\")\n",
    "    x=x+1"
   ]
  },
  {
   "cell_type": "code",
   "execution_count": 14,
   "id": "b84ae45b",
   "metadata": {},
   "outputs": [
    {
     "name": "stdout",
     "output_type": "stream",
     "text": [
      "* * *\n",
      "*    *\n",
      "*    *\n",
      "* * *\n"
     ]
    }
   ],
   "source": [
    "x=1\n",
    "while x<5:\n",
    "    if x==1:\n",
    "        print(\"* * *\")\n",
    "    elif x==2:\n",
    "        print(\"*    *\")\n",
    "    elif x==3:\n",
    "        print(\"*    *\")\n",
    "    else:\n",
    "        print(\"* * *\")\n",
    "    x=x+1"
   ]
  },
  {
   "cell_type": "code",
   "execution_count": 17,
   "id": "7865ebd7",
   "metadata": {},
   "outputs": [
    {
     "name": "stdout",
     "output_type": "stream",
     "text": [
      "* * *\n",
      "*    \n",
      "* * *\n",
      "*    \n",
      "* * *\n"
     ]
    }
   ],
   "source": [
    "x=1\n",
    "while x<6:\n",
    "    if x==1:\n",
    "        print(\"* * *\")\n",
    "    elif x==2:\n",
    "        print(\"*    \")\n",
    "    elif x==3:\n",
    "        print(\"* * *\")\n",
    "    elif x==4:\n",
    "        print(\"*    \")\n",
    "    else:\n",
    "        print(\"* * *\")\n",
    "    x=x+1"
   ]
  },
  {
   "cell_type": "code",
   "execution_count": 20,
   "id": "bdea566e",
   "metadata": {
    "scrolled": true
   },
   "outputs": [
    {
     "name": "stdout",
     "output_type": "stream",
     "text": [
      "* * *\n",
      "*    \n",
      "* * *\n",
      "*    \n",
      "*    \n"
     ]
    }
   ],
   "source": [
    "x=0\n",
    "while x<5:\n",
    "    if x==0:\n",
    "        print(\"* * *\")\n",
    "    elif x==1:\n",
    "        print(\"*    \")\n",
    "    elif x==2:\n",
    "        print(\"* * *\")\n",
    "    elif x==3:\n",
    "        print(\"*    \")\n",
    "    else:\n",
    "        print(\"*    \")\n",
    "    x=x+1"
   ]
  },
  {
   "cell_type": "code",
   "execution_count": 34,
   "id": "eaa30e78",
   "metadata": {},
   "outputs": [
    {
     "name": "stdout",
     "output_type": "stream",
     "text": [
      "* * * * *\n",
      "*    \n",
      "*   * * *\n",
      "*   *   *\n",
      "* * *   *\n"
     ]
    }
   ],
   "source": [
    "x=1\n",
    "while x<6:\n",
    "    if x==1:\n",
    "        print(\"* * * * *\")\n",
    "    elif x==2:\n",
    "        print(\"*    \")\n",
    "    elif x==3:\n",
    "        print(\"*   * * *\")\n",
    "    elif x==4:\n",
    "        print(\"*   *   *\")\n",
    "    else: \n",
    "        print(\"* * *   *\")\n",
    "    x=x+1"
   ]
  },
  {
   "cell_type": "code",
   "execution_count": 37,
   "id": "20aaf6b0",
   "metadata": {},
   "outputs": [
    {
     "name": "stdout",
     "output_type": "stream",
     "text": [
      "*       *\n",
      "*       *\n",
      "* * * * *\n",
      "*       *\n",
      "*       *\n"
     ]
    }
   ],
   "source": [
    "x=1\n",
    "while x<6:\n",
    "    if x==1:\n",
    "        print(\"*       *\")\n",
    "    elif x==2:\n",
    "        print(\"*       *\")\n",
    "    elif x==3:\n",
    "        print(\"* * * * *\")\n",
    "    elif x==4:\n",
    "        print(\"*       *\")\n",
    "    else: \n",
    "        print(\"*       *\")\n",
    "    x=x+1"
   ]
  },
  {
   "cell_type": "code",
   "execution_count": 4,
   "id": "6b506286",
   "metadata": {},
   "outputs": [
    {
     "name": "stdout",
     "output_type": "stream",
     "text": [
      "* * * * *\n",
      "    *    \n",
      "    *    \n",
      "    *    \n",
      "* * * * *\n"
     ]
    }
   ],
   "source": [
    "x=1\n",
    "while x<6:\n",
    "    if x==1:\n",
    "        print(\"* * * * *\")\n",
    "    elif x==2:\n",
    "        print(\"    *    \")\n",
    "    elif x==3:\n",
    "        print(\"    *    \")\n",
    "    elif x==4:\n",
    "        print(\"    *    \")\n",
    "    else: \n",
    "        print(\"* * * * *\")\n",
    "    x=x+1"
   ]
  },
  {
   "cell_type": "code",
   "execution_count": 3,
   "id": "29687814",
   "metadata": {},
   "outputs": [
    {
     "name": "stdout",
     "output_type": "stream",
     "text": [
      "* * * * *\n",
      "    *    \n",
      "    *    \n",
      "*   *    \n",
      "* * *    \n"
     ]
    }
   ],
   "source": [
    "x=1\n",
    "while x<6:\n",
    "    if x==1:\n",
    "        print(\"* * * * *\")\n",
    "    elif x==2:\n",
    "        print(\"    *    \")\n",
    "    elif x==3:\n",
    "        print(\"    *    \")\n",
    "    elif x==4:\n",
    "        print(\"*   *    \")\n",
    "    else: \n",
    "        print(\"* * *    \")\n",
    "    x=x+1"
   ]
  },
  {
   "cell_type": "code",
   "execution_count": 9,
   "id": "f9fd09cc",
   "metadata": {},
   "outputs": [
    {
     "name": "stdout",
     "output_type": "stream",
     "text": [
      "*       *\n",
      "*   *    \n",
      "* *      \n",
      "*   *    \n",
      "*       *\n"
     ]
    }
   ],
   "source": [
    "x=1\n",
    "while x<6:\n",
    "    if x==1:\n",
    "        print(\"*       *\")\n",
    "    elif x==2:\n",
    "        print(\"*   *    \")\n",
    "    elif x==3:\n",
    "        print(\"* *      \")\n",
    "    elif x==4:\n",
    "        print(\"*   *    \")\n",
    "    else: \n",
    "        print(\"*       *\")\n",
    "    x=x+1"
   ]
  },
  {
   "cell_type": "code",
   "execution_count": 12,
   "id": "1e375527",
   "metadata": {},
   "outputs": [
    {
     "name": "stdout",
     "output_type": "stream",
     "text": [
      "*       \n",
      "*       \n",
      "*       \n",
      "*       \n",
      "* * * * * \n"
     ]
    }
   ],
   "source": [
    "x=1\n",
    "while x<=5:\n",
    "    if x==1:\n",
    "        print(\"*       \")\n",
    "    elif x==2:\n",
    "        print(\"*       \")\n",
    "    elif x==3:\n",
    "        print(\"*       \")\n",
    "    elif x==4:\n",
    "        print(\"*       \")\n",
    "    else:\n",
    "        print(\"* * * * * \")\n",
    "    x=x+1"
   ]
  },
  {
   "cell_type": "code",
   "execution_count": 14,
   "id": "30be8594",
   "metadata": {},
   "outputs": [
    {
     "name": "stdout",
     "output_type": "stream",
     "text": [
      "*        * \n",
      "* *   *  *\n",
      "*   *    * \n",
      "*        * \n",
      "*        * \n"
     ]
    }
   ],
   "source": [
    "x=1\n",
    "while x<=5:\n",
    "    if x==1:\n",
    "        print(\"*        * \")\n",
    "    elif x==2:\n",
    "        print(\"* *   *  *\")\n",
    "    elif x==3:\n",
    "        print(\"*   *    * \")\n",
    "    elif x==4:\n",
    "        print(\"*        * \")\n",
    "    else:\n",
    "        print(\"*        * \")\n",
    "    x=x+1"
   ]
  },
  {
   "cell_type": "code",
   "execution_count": 15,
   "id": "03a3b116",
   "metadata": {},
   "outputs": [
    {
     "name": "stdout",
     "output_type": "stream",
     "text": [
      "*        * \n",
      "* *      *\n",
      "*   *    * \n",
      "*      * * \n",
      "*        * \n"
     ]
    }
   ],
   "source": [
    "x=1\n",
    "while x<=5:\n",
    "    if x==1:\n",
    "        print(\"*        * \")\n",
    "    elif x==2:\n",
    "        print(\"* *      *\")\n",
    "    elif x==3:\n",
    "        print(\"*   *    * \")\n",
    "    elif x==4:\n",
    "        print(\"*      * * \")\n",
    "    else:\n",
    "        print(\"*        * \")\n",
    "    x=x+1"
   ]
  },
  {
   "cell_type": "code",
   "execution_count": 17,
   "id": "3bae9421",
   "metadata": {},
   "outputs": [
    {
     "name": "stdout",
     "output_type": "stream",
     "text": [
      "* * * * * \n",
      "*       *\n",
      "*       * \n",
      "*       * \n",
      "* * * * * \n"
     ]
    }
   ],
   "source": [
    "x=1\n",
    "while x<=5:\n",
    "    if x==1:\n",
    "        print(\"* * * * * \")\n",
    "    elif x==2:\n",
    "        print(\"*       *\")\n",
    "    elif x==3:\n",
    "        print(\"*       * \")\n",
    "    elif x==4:\n",
    "        print(\"*       * \")\n",
    "    else:\n",
    "        print(\"* * * * * \")\n",
    "    x=x+1"
   ]
  },
  {
   "cell_type": "code",
   "execution_count": 18,
   "id": "1574a454",
   "metadata": {},
   "outputs": [
    {
     "name": "stdout",
     "output_type": "stream",
     "text": [
      "* * * * * \n",
      "*        *\n",
      "* * * * *\n",
      "*          \n",
      "*         \n"
     ]
    }
   ],
   "source": [
    "x=1\n",
    "while x<=5:\n",
    "    if x==1:\n",
    "        print(\"* * * * * \")\n",
    "    elif x==2:\n",
    "        print(\"*        *\")\n",
    "    elif x==3:\n",
    "        print(\"* * * * *\")\n",
    "    elif x==4:\n",
    "        print(\"*          \")\n",
    "    else:\n",
    "        print(\"*         \")\n",
    "    x=x+1"
   ]
  },
  {
   "cell_type": "code",
   "execution_count": 15,
   "id": "e79e0201",
   "metadata": {},
   "outputs": [
    {
     "name": "stdout",
     "output_type": "stream",
     "text": [
      "  * * * * * \n",
      "*           *\n",
      "*       *   * \n",
      "*         * *\n",
      "  * * * * * * \n",
      "             *\n"
     ]
    }
   ],
   "source": [
    "x=1\n",
    "while x<=6:\n",
    "    if x==1:\n",
    "        print(\"  * * * * * \")\n",
    "    elif x==2:\n",
    "        print(\"*           *\")\n",
    "    elif x==3:\n",
    "        print(\"*       *   * \")\n",
    "    elif x==4:\n",
    "        print(\"*         * *\")\n",
    "    elif x==5:\n",
    "        print(\"  * * * * * * \")\n",
    "    else:\n",
    "        print(\"             *\")\n",
    "    x=x+1"
   ]
  },
  {
   "cell_type": "code",
   "execution_count": 18,
   "id": "3ce13fc7",
   "metadata": {},
   "outputs": [
    {
     "name": "stdout",
     "output_type": "stream",
     "text": [
      "* * * * * \n",
      "*        *\n",
      "* * * * *\n",
      "*    *       \n",
      "*        *   \n"
     ]
    }
   ],
   "source": [
    "x=1\n",
    "while x<=5:\n",
    "    if x==1:\n",
    "        print(\"* * * * * \")\n",
    "    elif x==2:\n",
    "        print(\"*        *\")\n",
    "    elif x==3:\n",
    "        print(\"* * * * *\")\n",
    "    elif x==4:\n",
    "        print(\"*    *       \")\n",
    "    else:\n",
    "        print(\"*        *   \")\n",
    "    x=x+1"
   ]
  },
  {
   "cell_type": "code",
   "execution_count": 42,
   "id": "1fd56983",
   "metadata": {},
   "outputs": [
    {
     "name": "stdout",
     "output_type": "stream",
     "text": [
      "  * * * * * * \n",
      "*           \n",
      "* * * * * * *\n",
      "             * \n",
      " * * * * * *   \n",
      "             \n"
     ]
    }
   ],
   "source": [
    "x=1\n",
    "while x<=6:\n",
    "    if x==1:\n",
    "        print(\"  * * * * * * \")\n",
    "    elif x==2:\n",
    "        print(\"*           \")\n",
    "    elif x==3:\n",
    "        print(\"* * * * * * *\")\n",
    "    elif x==4:\n",
    "        print(\"             * \")\n",
    "    elif x==5:\n",
    "        print(\" * * * * * *   \")\n",
    "    else:\n",
    "        print(\"             \")\n",
    "    x=x+1"
   ]
  },
  {
   "cell_type": "code",
   "execution_count": 32,
   "id": "627e2770",
   "metadata": {},
   "outputs": [
    {
     "name": "stdout",
     "output_type": "stream",
     "text": [
      "* * * * *\n",
      "    *    \n",
      "    *    \n",
      "    *    \n",
      "    *    \n"
     ]
    }
   ],
   "source": [
    "x=1\n",
    "while x<6:\n",
    "    if x==1:\n",
    "        print(\"* * * * *\")\n",
    "    elif x==2:\n",
    "        print(\"    *    \")\n",
    "    elif x==3:\n",
    "        print(\"    *    \")\n",
    "    elif x==4:\n",
    "        print(\"    *    \")\n",
    "    else: \n",
    "        print(\"    *    \")\n",
    "    x=x+1"
   ]
  },
  {
   "cell_type": "code",
   "execution_count": 44,
   "id": "097ad13e",
   "metadata": {},
   "outputs": [
    {
     "name": "stdout",
     "output_type": "stream",
     "text": [
      "*           * \n",
      "*           *\n",
      "*           * \n",
      "*           *\n",
      "  * * * * *  \n",
      "             \n"
     ]
    }
   ],
   "source": [
    "x=1\n",
    "while x<=6:\n",
    "    if x==1:\n",
    "        print(\"*           * \")\n",
    "    elif x==2:\n",
    "        print(\"*           *\")\n",
    "    elif x==3:\n",
    "        print(\"*           * \")\n",
    "    elif x==4:\n",
    "        print(\"*           *\")\n",
    "    elif x==5:\n",
    "        print(\"  * * * * *  \")\n",
    "    else:\n",
    "        print(\"             \")\n",
    "    x=x+1"
   ]
  },
  {
   "cell_type": "code",
   "execution_count": 5,
   "id": "0a1ea762",
   "metadata": {},
   "outputs": [
    {
     "name": "stdout",
     "output_type": "stream",
     "text": [
      "   *       *\n",
      "    *     * \n",
      "     *   *\n",
      "      * * \n",
      "       *      \n"
     ]
    }
   ],
   "source": [
    "x=1\n",
    "while x<=4:\n",
    "    if x==1:\n",
    "        print(\"   *       *\")\n",
    "    if x==1:\n",
    "        print(\"    *     * \")\n",
    "    elif x==2:\n",
    "        print(\"     *   *\")\n",
    "    elif x==3:\n",
    "        print(\"      * * \")\n",
    "    else:\n",
    "        print(\"       *      \")\n",
    "    x=x+1"
   ]
  },
  {
   "cell_type": "code",
   "execution_count": 19,
   "id": "6aa887d9",
   "metadata": {},
   "outputs": [
    {
     "name": "stdout",
     "output_type": "stream",
     "text": [
      "  *                   *\n",
      "   *       *         * \n",
      "    *     *  *      *\n",
      "     *   *    *    *\n",
      "      * *      *  *\n",
      "       *         * \n"
     ]
    }
   ],
   "source": [
    "x=1\n",
    "while x<=6:\n",
    "    if x==1:\n",
    "        print(\"  *                   *\")\n",
    "    elif x==2:\n",
    "        print(\"   *       *         * \")\n",
    "    elif x==3:\n",
    "        print(\"    *     *  *      *\")\n",
    "    elif x==4:\n",
    "        print(\"     *   *    *    *\")\n",
    "    elif x==5:\n",
    "        print(\"      * *      *  *\")\n",
    "    else:\n",
    "        print(\"       *         * \")\n",
    "    x=x+1"
   ]
  },
  {
   "cell_type": "code",
   "execution_count": 24,
   "id": "6b465f0a",
   "metadata": {},
   "outputs": [
    {
     "name": "stdout",
     "output_type": "stream",
     "text": [
      "     *     *\n",
      "      *   * \n",
      "        *      \n",
      "      *   * \n",
      "     *     *\n"
     ]
    }
   ],
   "source": [
    "x=1\n",
    "while x<=4:\n",
    "    if x==1:\n",
    "        print(\"     *     *\")\n",
    "    if x==1:\n",
    "        print(\"      *   * \")\n",
    "    elif x==2:\n",
    "        print(\"        *      \")\n",
    "    elif x==3:\n",
    "        print(\"      *   * \")\n",
    "    else:\n",
    "        print(\"     *     *\")\n",
    "    x=x+1"
   ]
  },
  {
   "cell_type": "code",
   "execution_count": 25,
   "id": "167ffe61",
   "metadata": {},
   "outputs": [
    {
     "name": "stdout",
     "output_type": "stream",
     "text": [
      "  *        * \n",
      "   *     *\n",
      "    *   * \n",
      "      *      \n",
      "      *      \n",
      "      *      \n"
     ]
    }
   ],
   "source": [
    "x=1\n",
    "while x<=6:\n",
    "    if x==1:\n",
    "        print(\"  *        * \")\n",
    "    elif x==2:\n",
    "        print(\"   *     *\")\n",
    "    elif x==3:\n",
    "        print(\"    *   * \")\n",
    "    else:\n",
    "        print(\"      *      \")\n",
    "    x=x+1"
   ]
  },
  {
   "cell_type": "code",
   "execution_count": 28,
   "id": "61b17494",
   "metadata": {},
   "outputs": [
    {
     "name": "stdout",
     "output_type": "stream",
     "text": [
      "* * * * *\n",
      "      *   \n",
      "    *    \n",
      "  *    \n",
      "* * * * *\n"
     ]
    }
   ],
   "source": [
    "x=1\n",
    "while x<6:\n",
    "    if x==1:\n",
    "        print(\"* * * * *\")\n",
    "    elif x==2:\n",
    "        print(\"      *   \")\n",
    "    elif x==3:\n",
    "        print(\"    *    \")\n",
    "    elif x==4:\n",
    "        print(\"  *    \")\n",
    "    else: \n",
    "        print(\"* * * * *\")\n",
    "    x=x+1"
   ]
  },
  {
   "cell_type": "code",
   "execution_count": null,
   "id": "b6745e35",
   "metadata": {},
   "outputs": [],
   "source": []
  }
 ],
 "metadata": {
  "kernelspec": {
   "display_name": "Python 3 (ipykernel)",
   "language": "python",
   "name": "python3"
  },
  "language_info": {
   "codemirror_mode": {
    "name": "ipython",
    "version": 3
   },
   "file_extension": ".py",
   "mimetype": "text/x-python",
   "name": "python",
   "nbconvert_exporter": "python",
   "pygments_lexer": "ipython3",
   "version": "3.9.12"
  }
 },
 "nbformat": 4,
 "nbformat_minor": 5
}
